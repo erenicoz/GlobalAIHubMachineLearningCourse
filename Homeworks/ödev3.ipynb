{
 "cells": [
  {
   "cell_type": "code",
   "execution_count": 1,
   "metadata": {},
   "outputs": [],
   "source": [
    "from sklearn.datasets import make_classification"
   ]
  },
  {
   "cell_type": "code",
   "execution_count": 11,
   "metadata": {},
   "outputs": [],
   "source": [
    "a=make_classification(n_samples=10000,n_features=8,n_informative = 5,class_sep = 2,\n",
    "random_state = 42)"
   ]
  },
  {
   "cell_type": "code",
   "execution_count": 12,
   "metadata": {},
   "outputs": [],
   "source": [
    "import pandas as pd "
   ]
  },
  {
   "cell_type": "code",
   "execution_count": 17,
   "metadata": {},
   "outputs": [],
   "source": [
    "df=pd.DataFrame(a[0],columns=[\"a\",\"b\",\"c\",\"d\",\"e\",\"f\",\"g\",\"h\"])"
   ]
  },
  {
   "cell_type": "code",
   "execution_count": 18,
   "metadata": {},
   "outputs": [
    {
     "data": {
      "text/plain": [
       "array([[-0.47505467,  1.45564294, -1.57111083, ..., -0.47833321,\n",
       "         0.0121073 , -1.61634383],\n",
       "       [ 1.5783509 ,  4.61122923, -0.52749475, ..., -1.78338602,\n",
       "         3.43166244, -0.17861083],\n",
       "       [-2.6776042 ,  0.61933287, -0.26075308, ..., -1.5522565 ,\n",
       "         1.18205909,  1.81052412],\n",
       "       ...,\n",
       "       [ 0.425978  ,  4.29831661,  0.53610036, ..., -3.1874467 ,\n",
       "         1.30653438, -0.25403637],\n",
       "       [-1.18208391,  0.62853557,  0.84831961, ..., -4.75946244,\n",
       "        -2.43911681,  3.18201907],\n",
       "       [ 0.41114749, -0.67013246, -0.69664574, ...,  0.76800583,\n",
       "         3.04055429,  3.29086748]])"
      ]
     },
     "execution_count": 18,
     "metadata": {},
     "output_type": "execute_result"
    }
   ],
   "source": [
    "a[0]"
   ]
  },
  {
   "cell_type": "code",
   "execution_count": 22,
   "metadata": {},
   "outputs": [
    {
     "data": {
      "text/plain": [
       "array([0, 1, 0, ..., 1, 1, 0])"
      ]
     },
     "execution_count": 22,
     "metadata": {},
     "output_type": "execute_result"
    }
   ],
   "source": [
    "a[1]"
   ]
  },
  {
   "cell_type": "code",
   "execution_count": 27,
   "metadata": {},
   "outputs": [
    {
     "data": {
      "text/plain": [
       "0      -0.475055\n",
       "1       1.578351\n",
       "2      -2.677604\n",
       "3       0.379412\n",
       "4      -3.645689\n",
       "          ...   \n",
       "9995   -2.399057\n",
       "9996   -1.487918\n",
       "9997    0.425978\n",
       "9998   -1.182084\n",
       "9999    0.411147\n",
       "Name: a, Length: 10000, dtype: float64"
      ]
     },
     "execution_count": 27,
     "metadata": {},
     "output_type": "execute_result"
    }
   ],
   "source": [
    "df[\"a\"]"
   ]
  },
  {
   "cell_type": "code",
   "execution_count": 34,
   "metadata": {},
   "outputs": [],
   "source": [
    "df2=pd.DataFrame(a[1],columns=[\"a\"])"
   ]
  },
  {
   "cell_type": "code",
   "execution_count": 37,
   "metadata": {},
   "outputs": [
    {
     "data": {
      "text/plain": [
       "array([0, 1])"
      ]
     },
     "execution_count": 37,
     "metadata": {},
     "output_type": "execute_result"
    }
   ],
   "source": [
    "df2[\"a\"].unique()"
   ]
  },
  {
   "cell_type": "code",
   "execution_count": 39,
   "metadata": {},
   "outputs": [
    {
     "data": {
      "text/html": [
       "<div>\n",
       "<style scoped>\n",
       "    .dataframe tbody tr th:only-of-type {\n",
       "        vertical-align: middle;\n",
       "    }\n",
       "\n",
       "    .dataframe tbody tr th {\n",
       "        vertical-align: top;\n",
       "    }\n",
       "\n",
       "    .dataframe thead th {\n",
       "        text-align: right;\n",
       "    }\n",
       "</style>\n",
       "<table border=\"1\" class=\"dataframe\">\n",
       "  <thead>\n",
       "    <tr style=\"text-align: right;\">\n",
       "      <th></th>\n",
       "      <th>a</th>\n",
       "      <th>b</th>\n",
       "      <th>c</th>\n",
       "      <th>d</th>\n",
       "      <th>e</th>\n",
       "      <th>f</th>\n",
       "      <th>g</th>\n",
       "      <th>h</th>\n",
       "    </tr>\n",
       "  </thead>\n",
       "  <tbody>\n",
       "    <tr>\n",
       "      <th>0</th>\n",
       "      <td>-0.475055</td>\n",
       "      <td>1.455643</td>\n",
       "      <td>-1.571111</td>\n",
       "      <td>-2.233576</td>\n",
       "      <td>-2.272510</td>\n",
       "      <td>-0.478333</td>\n",
       "      <td>0.012107</td>\n",
       "      <td>-1.616344</td>\n",
       "    </tr>\n",
       "    <tr>\n",
       "      <th>1</th>\n",
       "      <td>1.578351</td>\n",
       "      <td>4.611229</td>\n",
       "      <td>-0.527495</td>\n",
       "      <td>-1.868875</td>\n",
       "      <td>2.921311</td>\n",
       "      <td>-1.783386</td>\n",
       "      <td>3.431662</td>\n",
       "      <td>-0.178611</td>\n",
       "    </tr>\n",
       "    <tr>\n",
       "      <th>2</th>\n",
       "      <td>-2.677604</td>\n",
       "      <td>0.619333</td>\n",
       "      <td>-0.260753</td>\n",
       "      <td>1.768409</td>\n",
       "      <td>1.511900</td>\n",
       "      <td>-1.552257</td>\n",
       "      <td>1.182059</td>\n",
       "      <td>1.810524</td>\n",
       "    </tr>\n",
       "    <tr>\n",
       "      <th>3</th>\n",
       "      <td>0.379412</td>\n",
       "      <td>0.879235</td>\n",
       "      <td>-0.787970</td>\n",
       "      <td>-0.457057</td>\n",
       "      <td>3.388700</td>\n",
       "      <td>1.787840</td>\n",
       "      <td>4.294263</td>\n",
       "      <td>0.427934</td>\n",
       "    </tr>\n",
       "    <tr>\n",
       "      <th>4</th>\n",
       "      <td>-3.645689</td>\n",
       "      <td>3.371521</td>\n",
       "      <td>-2.061152</td>\n",
       "      <td>-1.314058</td>\n",
       "      <td>-0.169329</td>\n",
       "      <td>-2.487230</td>\n",
       "      <td>2.144342</td>\n",
       "      <td>-0.733770</td>\n",
       "    </tr>\n",
       "    <tr>\n",
       "      <th>...</th>\n",
       "      <td>...</td>\n",
       "      <td>...</td>\n",
       "      <td>...</td>\n",
       "      <td>...</td>\n",
       "      <td>...</td>\n",
       "      <td>...</td>\n",
       "      <td>...</td>\n",
       "      <td>...</td>\n",
       "    </tr>\n",
       "    <tr>\n",
       "      <th>9995</th>\n",
       "      <td>-2.399057</td>\n",
       "      <td>2.275687</td>\n",
       "      <td>-0.345061</td>\n",
       "      <td>0.629983</td>\n",
       "      <td>3.397411</td>\n",
       "      <td>-1.502344</td>\n",
       "      <td>3.098817</td>\n",
       "      <td>0.583324</td>\n",
       "    </tr>\n",
       "    <tr>\n",
       "      <th>9996</th>\n",
       "      <td>-1.487918</td>\n",
       "      <td>2.273560</td>\n",
       "      <td>-1.152804</td>\n",
       "      <td>2.062795</td>\n",
       "      <td>-0.571202</td>\n",
       "      <td>-5.398310</td>\n",
       "      <td>-2.426969</td>\n",
       "      <td>2.455303</td>\n",
       "    </tr>\n",
       "    <tr>\n",
       "      <th>9997</th>\n",
       "      <td>0.425978</td>\n",
       "      <td>4.298317</td>\n",
       "      <td>0.536100</td>\n",
       "      <td>-1.266725</td>\n",
       "      <td>1.370092</td>\n",
       "      <td>-3.187447</td>\n",
       "      <td>1.306534</td>\n",
       "      <td>-0.254036</td>\n",
       "    </tr>\n",
       "    <tr>\n",
       "      <th>9998</th>\n",
       "      <td>-1.182084</td>\n",
       "      <td>0.628536</td>\n",
       "      <td>0.848320</td>\n",
       "      <td>4.571744</td>\n",
       "      <td>3.057226</td>\n",
       "      <td>-4.759462</td>\n",
       "      <td>-2.439117</td>\n",
       "      <td>3.182019</td>\n",
       "    </tr>\n",
       "    <tr>\n",
       "      <th>9999</th>\n",
       "      <td>0.411147</td>\n",
       "      <td>-0.670132</td>\n",
       "      <td>-0.696646</td>\n",
       "      <td>3.194648</td>\n",
       "      <td>5.665534</td>\n",
       "      <td>0.768006</td>\n",
       "      <td>3.040554</td>\n",
       "      <td>3.290867</td>\n",
       "    </tr>\n",
       "  </tbody>\n",
       "</table>\n",
       "<p>10000 rows × 8 columns</p>\n",
       "</div>"
      ],
      "text/plain": [
       "             a         b         c         d         e         f         g  \\\n",
       "0    -0.475055  1.455643 -1.571111 -2.233576 -2.272510 -0.478333  0.012107   \n",
       "1     1.578351  4.611229 -0.527495 -1.868875  2.921311 -1.783386  3.431662   \n",
       "2    -2.677604  0.619333 -0.260753  1.768409  1.511900 -1.552257  1.182059   \n",
       "3     0.379412  0.879235 -0.787970 -0.457057  3.388700  1.787840  4.294263   \n",
       "4    -3.645689  3.371521 -2.061152 -1.314058 -0.169329 -2.487230  2.144342   \n",
       "...        ...       ...       ...       ...       ...       ...       ...   \n",
       "9995 -2.399057  2.275687 -0.345061  0.629983  3.397411 -1.502344  3.098817   \n",
       "9996 -1.487918  2.273560 -1.152804  2.062795 -0.571202 -5.398310 -2.426969   \n",
       "9997  0.425978  4.298317  0.536100 -1.266725  1.370092 -3.187447  1.306534   \n",
       "9998 -1.182084  0.628536  0.848320  4.571744  3.057226 -4.759462 -2.439117   \n",
       "9999  0.411147 -0.670132 -0.696646  3.194648  5.665534  0.768006  3.040554   \n",
       "\n",
       "             h  \n",
       "0    -1.616344  \n",
       "1    -0.178611  \n",
       "2     1.810524  \n",
       "3     0.427934  \n",
       "4    -0.733770  \n",
       "...        ...  \n",
       "9995  0.583324  \n",
       "9996  2.455303  \n",
       "9997 -0.254036  \n",
       "9998  3.182019  \n",
       "9999  3.290867  \n",
       "\n",
       "[10000 rows x 8 columns]"
      ]
     },
     "execution_count": 39,
     "metadata": {},
     "output_type": "execute_result"
    }
   ],
   "source": [
    "df"
   ]
  },
  {
   "cell_type": "code",
   "execution_count": 41,
   "metadata": {},
   "outputs": [],
   "source": [
    "df2.columns=[\"y\"]"
   ]
  },
  {
   "cell_type": "code",
   "execution_count": 42,
   "metadata": {},
   "outputs": [],
   "source": [
    "df=pd.concat([df,df2],axis=1)"
   ]
  },
  {
   "cell_type": "code",
   "execution_count": 43,
   "metadata": {},
   "outputs": [
    {
     "data": {
      "text/html": [
       "<div>\n",
       "<style scoped>\n",
       "    .dataframe tbody tr th:only-of-type {\n",
       "        vertical-align: middle;\n",
       "    }\n",
       "\n",
       "    .dataframe tbody tr th {\n",
       "        vertical-align: top;\n",
       "    }\n",
       "\n",
       "    .dataframe thead th {\n",
       "        text-align: right;\n",
       "    }\n",
       "</style>\n",
       "<table border=\"1\" class=\"dataframe\">\n",
       "  <thead>\n",
       "    <tr style=\"text-align: right;\">\n",
       "      <th></th>\n",
       "      <th>a</th>\n",
       "      <th>b</th>\n",
       "      <th>c</th>\n",
       "      <th>d</th>\n",
       "      <th>e</th>\n",
       "      <th>f</th>\n",
       "      <th>g</th>\n",
       "      <th>h</th>\n",
       "      <th>y</th>\n",
       "    </tr>\n",
       "  </thead>\n",
       "  <tbody>\n",
       "    <tr>\n",
       "      <th>0</th>\n",
       "      <td>-0.475055</td>\n",
       "      <td>1.455643</td>\n",
       "      <td>-1.571111</td>\n",
       "      <td>-2.233576</td>\n",
       "      <td>-2.272510</td>\n",
       "      <td>-0.478333</td>\n",
       "      <td>0.012107</td>\n",
       "      <td>-1.616344</td>\n",
       "      <td>0</td>\n",
       "    </tr>\n",
       "    <tr>\n",
       "      <th>1</th>\n",
       "      <td>1.578351</td>\n",
       "      <td>4.611229</td>\n",
       "      <td>-0.527495</td>\n",
       "      <td>-1.868875</td>\n",
       "      <td>2.921311</td>\n",
       "      <td>-1.783386</td>\n",
       "      <td>3.431662</td>\n",
       "      <td>-0.178611</td>\n",
       "      <td>1</td>\n",
       "    </tr>\n",
       "    <tr>\n",
       "      <th>2</th>\n",
       "      <td>-2.677604</td>\n",
       "      <td>0.619333</td>\n",
       "      <td>-0.260753</td>\n",
       "      <td>1.768409</td>\n",
       "      <td>1.511900</td>\n",
       "      <td>-1.552257</td>\n",
       "      <td>1.182059</td>\n",
       "      <td>1.810524</td>\n",
       "      <td>0</td>\n",
       "    </tr>\n",
       "    <tr>\n",
       "      <th>3</th>\n",
       "      <td>0.379412</td>\n",
       "      <td>0.879235</td>\n",
       "      <td>-0.787970</td>\n",
       "      <td>-0.457057</td>\n",
       "      <td>3.388700</td>\n",
       "      <td>1.787840</td>\n",
       "      <td>4.294263</td>\n",
       "      <td>0.427934</td>\n",
       "      <td>0</td>\n",
       "    </tr>\n",
       "    <tr>\n",
       "      <th>4</th>\n",
       "      <td>-3.645689</td>\n",
       "      <td>3.371521</td>\n",
       "      <td>-2.061152</td>\n",
       "      <td>-1.314058</td>\n",
       "      <td>-0.169329</td>\n",
       "      <td>-2.487230</td>\n",
       "      <td>2.144342</td>\n",
       "      <td>-0.733770</td>\n",
       "      <td>0</td>\n",
       "    </tr>\n",
       "    <tr>\n",
       "      <th>...</th>\n",
       "      <td>...</td>\n",
       "      <td>...</td>\n",
       "      <td>...</td>\n",
       "      <td>...</td>\n",
       "      <td>...</td>\n",
       "      <td>...</td>\n",
       "      <td>...</td>\n",
       "      <td>...</td>\n",
       "      <td>...</td>\n",
       "    </tr>\n",
       "    <tr>\n",
       "      <th>9995</th>\n",
       "      <td>-2.399057</td>\n",
       "      <td>2.275687</td>\n",
       "      <td>-0.345061</td>\n",
       "      <td>0.629983</td>\n",
       "      <td>3.397411</td>\n",
       "      <td>-1.502344</td>\n",
       "      <td>3.098817</td>\n",
       "      <td>0.583324</td>\n",
       "      <td>0</td>\n",
       "    </tr>\n",
       "    <tr>\n",
       "      <th>9996</th>\n",
       "      <td>-1.487918</td>\n",
       "      <td>2.273560</td>\n",
       "      <td>-1.152804</td>\n",
       "      <td>2.062795</td>\n",
       "      <td>-0.571202</td>\n",
       "      <td>-5.398310</td>\n",
       "      <td>-2.426969</td>\n",
       "      <td>2.455303</td>\n",
       "      <td>0</td>\n",
       "    </tr>\n",
       "    <tr>\n",
       "      <th>9997</th>\n",
       "      <td>0.425978</td>\n",
       "      <td>4.298317</td>\n",
       "      <td>0.536100</td>\n",
       "      <td>-1.266725</td>\n",
       "      <td>1.370092</td>\n",
       "      <td>-3.187447</td>\n",
       "      <td>1.306534</td>\n",
       "      <td>-0.254036</td>\n",
       "      <td>1</td>\n",
       "    </tr>\n",
       "    <tr>\n",
       "      <th>9998</th>\n",
       "      <td>-1.182084</td>\n",
       "      <td>0.628536</td>\n",
       "      <td>0.848320</td>\n",
       "      <td>4.571744</td>\n",
       "      <td>3.057226</td>\n",
       "      <td>-4.759462</td>\n",
       "      <td>-2.439117</td>\n",
       "      <td>3.182019</td>\n",
       "      <td>1</td>\n",
       "    </tr>\n",
       "    <tr>\n",
       "      <th>9999</th>\n",
       "      <td>0.411147</td>\n",
       "      <td>-0.670132</td>\n",
       "      <td>-0.696646</td>\n",
       "      <td>3.194648</td>\n",
       "      <td>5.665534</td>\n",
       "      <td>0.768006</td>\n",
       "      <td>3.040554</td>\n",
       "      <td>3.290867</td>\n",
       "      <td>0</td>\n",
       "    </tr>\n",
       "  </tbody>\n",
       "</table>\n",
       "<p>10000 rows × 9 columns</p>\n",
       "</div>"
      ],
      "text/plain": [
       "             a         b         c         d         e         f         g  \\\n",
       "0    -0.475055  1.455643 -1.571111 -2.233576 -2.272510 -0.478333  0.012107   \n",
       "1     1.578351  4.611229 -0.527495 -1.868875  2.921311 -1.783386  3.431662   \n",
       "2    -2.677604  0.619333 -0.260753  1.768409  1.511900 -1.552257  1.182059   \n",
       "3     0.379412  0.879235 -0.787970 -0.457057  3.388700  1.787840  4.294263   \n",
       "4    -3.645689  3.371521 -2.061152 -1.314058 -0.169329 -2.487230  2.144342   \n",
       "...        ...       ...       ...       ...       ...       ...       ...   \n",
       "9995 -2.399057  2.275687 -0.345061  0.629983  3.397411 -1.502344  3.098817   \n",
       "9996 -1.487918  2.273560 -1.152804  2.062795 -0.571202 -5.398310 -2.426969   \n",
       "9997  0.425978  4.298317  0.536100 -1.266725  1.370092 -3.187447  1.306534   \n",
       "9998 -1.182084  0.628536  0.848320  4.571744  3.057226 -4.759462 -2.439117   \n",
       "9999  0.411147 -0.670132 -0.696646  3.194648  5.665534  0.768006  3.040554   \n",
       "\n",
       "             h  y  \n",
       "0    -1.616344  0  \n",
       "1    -0.178611  1  \n",
       "2     1.810524  0  \n",
       "3     0.427934  0  \n",
       "4    -0.733770  0  \n",
       "...        ... ..  \n",
       "9995  0.583324  0  \n",
       "9996  2.455303  0  \n",
       "9997 -0.254036  1  \n",
       "9998  3.182019  1  \n",
       "9999  3.290867  0  \n",
       "\n",
       "[10000 rows x 9 columns]"
      ]
     },
     "execution_count": 43,
     "metadata": {},
     "output_type": "execute_result"
    }
   ],
   "source": [
    "df"
   ]
  },
  {
   "cell_type": "code",
   "execution_count": 44,
   "metadata": {},
   "outputs": [],
   "source": [
    "Y=df[\"y\"]\n",
    "X=df.drop(\"y\",axis=1)"
   ]
  },
  {
   "cell_type": "code",
   "execution_count": 46,
   "metadata": {},
   "outputs": [],
   "source": [
    "from sklearn.metrics import mean_squared_error,r2_score\n",
    "from sklearn.model_selection import train_test_split,GridSearchCV\n",
    "from sklearn import model_selection\n",
    "from sklearn.preprocessing import scale\n",
    "from sklearn.preprocessing import StandardScaler\n",
    "from sklearn import neighbors\n",
    "from sklearn.svm import SVR\n",
    "from sklearn.metrics import confusion_matrix,accuracy_score,roc_auc_score,roc_curve,classification_report\n",
    "from sklearn.tree import DecisionTreeClassifier\n",
    "from sklearn.ensemble import RandomForestClassifier\n",
    "from sklearn.neighbors import KNeighborsClassifier\n",
    "from sklearn.ensemble import GradientBoostingClassifier\n"
   ]
  },
  {
   "cell_type": "code",
   "execution_count": 47,
   "metadata": {},
   "outputs": [],
   "source": [
    "x_train,x_test,y_train,y_test=train_test_split(X,Y,test_size=0.3,random_state=42)"
   ]
  },
  {
   "cell_type": "code",
   "execution_count": 48,
   "metadata": {},
   "outputs": [],
   "source": [
    "cart_model=DecisionTreeClassifier().fit(x_train,y_train)"
   ]
  },
  {
   "cell_type": "code",
   "execution_count": 49,
   "metadata": {},
   "outputs": [
    {
     "data": {
      "text/plain": [
       "0.9763333333333334"
      ]
     },
     "execution_count": 49,
     "metadata": {},
     "output_type": "execute_result"
    }
   ],
   "source": [
    "y_pred=cart_model.predict(x_test)\n",
    "accuracy_score(y_test,y_pred)"
   ]
  },
  {
   "cell_type": "code",
   "execution_count": 50,
   "metadata": {},
   "outputs": [
    {
     "name": "stdout",
     "output_type": "stream",
     "text": [
      "Fitting 3 folds for each of 20 candidates, totalling 60 fits\n"
     ]
    }
   ],
   "source": [
    "cart_params={\"max_depth\":[1,5,10,20],\"min_samples_split\":[2,5,10,20,50]}\n",
    "cart=DecisionTreeClassifier()\n",
    "cart_cv=GridSearchCV(cart,cart_params,cv=3,n_jobs=-1,verbose=2).fit(x_train,y_train)"
   ]
  },
  {
   "cell_type": "code",
   "execution_count": 51,
   "metadata": {},
   "outputs": [
    {
     "data": {
      "text/plain": [
       "0.9737138357260733"
      ]
     },
     "execution_count": 51,
     "metadata": {},
     "output_type": "execute_result"
    }
   ],
   "source": [
    "cart_cv.best_score_"
   ]
  },
  {
   "cell_type": "code",
   "execution_count": 52,
   "metadata": {},
   "outputs": [
    {
     "data": {
      "text/plain": [
       "{'max_depth': 10, 'min_samples_split': 5}"
      ]
     },
     "execution_count": 52,
     "metadata": {},
     "output_type": "execute_result"
    }
   ],
   "source": [
    "cart_cv.best_params_"
   ]
  },
  {
   "cell_type": "code",
   "execution_count": 53,
   "metadata": {},
   "outputs": [],
   "source": [
    "cart_tuned=DecisionTreeClassifier(max_depth=10,min_samples_split=5).fit(x_train,y_train)"
   ]
  },
  {
   "cell_type": "code",
   "execution_count": 54,
   "metadata": {},
   "outputs": [
    {
     "data": {
      "text/plain": [
       "0.9796666666666667"
      ]
     },
     "execution_count": 54,
     "metadata": {},
     "output_type": "execute_result"
    }
   ],
   "source": [
    "y_pred=cart_tuned.predict(x_test)\n",
    "accuracy_score(y_test,y_pred)"
   ]
  },
  {
   "cell_type": "code",
   "execution_count": 55,
   "metadata": {},
   "outputs": [
    {
     "data": {
      "text/plain": [
       "0.9796666666666667"
      ]
     },
     "execution_count": 55,
     "metadata": {},
     "output_type": "execute_result"
    }
   ],
   "source": [
    "cart_tuned.score(x_test,y_test)"
   ]
  },
  {
   "cell_type": "code",
   "execution_count": 56,
   "metadata": {},
   "outputs": [
    {
     "data": {
      "text/plain": [
       "0.989"
      ]
     },
     "execution_count": 56,
     "metadata": {},
     "output_type": "execute_result"
    }
   ],
   "source": [
    "gbm_model=GradientBoostingClassifier().fit(x_train,y_train)\n",
    "y_pred=gbm_model.predict(x_test)\n",
    "accuracy_score(y_test,y_pred)"
   ]
  },
  {
   "cell_type": "code",
   "execution_count": 57,
   "metadata": {},
   "outputs": [
    {
     "name": "stdout",
     "output_type": "stream",
     "text": [
      "Fitting 2 folds for each of 3 candidates, totalling 6 fits\n"
     ]
    }
   ],
   "source": [
    "gbm=GradientBoostingClassifier()\n",
    "gbm_params={\"n_estimators\":[100,500,1000]}\n",
    "gbm_cv=GridSearchCV(gbm,gbm_params,cv=2,n_jobs=-1,verbose=2).fit(x_train,y_train)"
   ]
  },
  {
   "cell_type": "code",
   "execution_count": 58,
   "metadata": {},
   "outputs": [
    {
     "data": {
      "text/plain": [
       "0.9837142857142858"
      ]
     },
     "execution_count": 58,
     "metadata": {},
     "output_type": "execute_result"
    }
   ],
   "source": [
    "gbm_cv.best_score_"
   ]
  },
  {
   "cell_type": "code",
   "execution_count": 59,
   "metadata": {},
   "outputs": [
    {
     "data": {
      "text/plain": [
       "{'n_estimators': 500}"
      ]
     },
     "execution_count": 59,
     "metadata": {},
     "output_type": "execute_result"
    }
   ],
   "source": [
    "gbm_cv.best_params_"
   ]
  },
  {
   "cell_type": "code",
   "execution_count": 60,
   "metadata": {},
   "outputs": [],
   "source": [
    "gbm_tuned=GradientBoostingClassifier(n_estimators=500).fit(x_train,y_train)"
   ]
  },
  {
   "cell_type": "code",
   "execution_count": 61,
   "metadata": {},
   "outputs": [
    {
     "data": {
      "text/plain": [
       "0.989"
      ]
     },
     "execution_count": 61,
     "metadata": {},
     "output_type": "execute_result"
    }
   ],
   "source": [
    "gbm_tuned.score(x_test,y_test)"
   ]
  },
  {
   "cell_type": "code",
   "execution_count": 62,
   "metadata": {},
   "outputs": [
    {
     "data": {
      "text/plain": [
       "0.989"
      ]
     },
     "execution_count": 62,
     "metadata": {},
     "output_type": "execute_result"
    }
   ],
   "source": [
    "y_pred=gbm_tuned.predict(x_test)\n",
    "accuracy_score(y_test,y_pred)"
   ]
  },
  {
   "cell_type": "code",
   "execution_count": 63,
   "metadata": {},
   "outputs": [
    {
     "data": {
      "text/plain": [
       "array([0.2679793 , 0.30014615, 0.00137882, 0.00731609, 0.31957591,\n",
       "       0.00365671, 0.04988278, 0.05006425])"
      ]
     },
     "execution_count": 63,
     "metadata": {},
     "output_type": "execute_result"
    }
   ],
   "source": [
    "gbm_tuned.feature_importances_"
   ]
  },
  {
   "cell_type": "code",
   "execution_count": 65,
   "metadata": {},
   "outputs": [
    {
     "data": {
      "text/plain": [
       "Text(0, 0.5, 'Değişkenler')"
      ]
     },
     "execution_count": 65,
     "metadata": {},
     "output_type": "execute_result"
    },
    {
     "data": {
      "image/png": "[encoded data removed]",
      "text/plain": [
       "<Figure size 432x288 with 1 Axes>"
      ]
     },
     "metadata": {
      "needs_background": "light"
     },
     "output_type": "display_data"
    }
   ],
   "source": [
    "from matplotlib import pyplot as plt\n",
    "import seaborn as sns\n",
    "feature_importances=pd.Series(gbm_tuned.feature_importances_,index=x_train.columns).sort_values(ascending=False)\n",
    "sns.barplot(x=feature_importances,y=x_train.columns)\n",
    "plt.title(\"Değişken Önem Tablosu\")\n",
    "plt.xlabel(\"Değişkenlerin Önem Katsayıları\")\n",
    "plt.ylabel(\"Değişkenler\")"
   ]
  },
  {
   "cell_type": "markdown",
   "metadata": {},
   "source": [
    "# underfitting ya da overfitting durumu yok."
   ]
  },
  {
   "cell_type": "code",
   "execution_count": null,
   "metadata": {},
   "outputs": [],
   "source": []
  }
 ],
 "metadata": {
  "kernelspec": {
   "display_name": "Python 3",
   "language": "python",
   "name": "python3"
  },
  "language_info": {
   "codemirror_mode": {
    "name": "ipython",
    "version": 3
   },
   "file_extension": ".py",
   "mimetype": "text/x-python",
   "name": "python",
   "nbconvert_exporter": "python",
   "pygments_lexer": "ipython3",
   "version": "3.8.1"
  }
 },
 "nbformat": 4,
 "nbformat_minor": 4
}
